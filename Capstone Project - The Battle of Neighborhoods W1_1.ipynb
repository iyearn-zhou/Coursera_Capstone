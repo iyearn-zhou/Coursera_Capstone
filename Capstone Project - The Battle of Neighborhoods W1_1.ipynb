{
    "cells": [
        {
            "metadata": {
                "collapsed": true
            },
            "cell_type": "markdown",
            "source": "## Introduction"
        },
        {
            "metadata": {},
            "cell_type": "markdown",
            "source": "#### This project intents to help those who are planning to start an Chinese restaurant in Toronto and need to find the best location for it.\n\n#### Background\n\n##### Selecting the right location for a restaurant in Toronto is one of the very important decisions, especially for chinese.  Toronta has many neighborhoods with various places that attract tourists and people to visit. It is important to evaluate different neighborhoods based on the factors that are important for running a restaurant such as the number of competitors and the potential demand in that neighborhood. Costs for renting or buying a property play an important role .\n##### This project will help people to find the best neighborhood in Toronto to open an Chinese restaurant. The challenge is to find a suitable neighborhood which is easy to access, has fewer competitors, and of course is affordable to rent. A good place would be that many people will visit such as near a school,cinema, park, garden, and living area. \n"
        },
        {
            "metadata": {},
            "cell_type": "code",
            "source": "",
            "execution_count": null,
            "outputs": []
        }
    ],
    "metadata": {
        "kernelspec": {
            "name": "python3",
            "display_name": "Python 3.6",
            "language": "python"
        },
        "language_info": {
            "name": "python",
            "version": "3.6.9",
            "mimetype": "text/x-python",
            "codemirror_mode": {
                "name": "ipython",
                "version": 3
            },
            "pygments_lexer": "ipython3",
            "nbconvert_exporter": "python",
            "file_extension": ".py"
        }
    },
    "nbformat": 4,
    "nbformat_minor": 1
}